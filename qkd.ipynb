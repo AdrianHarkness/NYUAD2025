{
 "cells": [
  {
   "cell_type": "code",
   "execution_count": 65,
   "id": "f82cc453",
   "metadata": {},
   "outputs": [],
   "source": [
    "import random\n",
    "import numpy as np\n",
    "from qiskit import QuantumCircuit\n",
    "from qiskit_aer import Aer, AerSimulator\n",
    "from qiskit import transpile"
   ]
  },
  {
   "cell_type": "markdown",
   "id": "cc0dc210",
   "metadata": {},
   "source": [
    "# Initialize Alice's Bits and Bases\n"
   ]
  },
  {
   "cell_type": "code",
   "execution_count": 66,
   "id": "a402e0a9",
   "metadata": {},
   "outputs": [],
   "source": [
    "n_qubits = 20\n",
    "\n",
    "# Step 1 - Alice choses randomly the bits and the bases\n",
    "alice_bits = [random.randint(0,1) for _ in range(n_qubits)]\n",
    "alice_bases = [random.choice(['Z', 'X']) for _ in range(n_qubits)]"
   ]
  },
  {
   "cell_type": "markdown",
   "id": "406e18c3",
   "metadata": {},
   "source": [
    "# Bob Chooses Random Measurement Bases"
   ]
  },
  {
   "cell_type": "code",
   "execution_count": 67,
   "id": "c6d66ea5",
   "metadata": {},
   "outputs": [],
   "source": [
    "#Step 2 - Bob Choses randomly measurement basis\n",
    "bob_bases = [random.choice(['Z', 'X']) for _ in range(n_qubits)]\n",
    "\n",
    "bob_results = []"
   ]
  },
  {
   "cell_type": "markdown",
   "id": "be2687e3",
   "metadata": {},
   "source": [
    "# Create and execute quantum circuits"
   ]
  },
  {
   "cell_type": "code",
   "execution_count": 68,
   "id": "5aa3e7fd",
   "metadata": {},
   "outputs": [],
   "source": [
    "# We will use a simulator to run the circuit\n",
    "backend = Aer.get_backend('qasm_simulator')\n",
    "\n",
    "#For each qbit create a quantum curcuit to simulate state preparation and measurements\n",
    "for i in range(n_qubits):\n",
    "\n",
    "  qc = QuantumCircuit(1,1) #one quantum bit and one classical bit\n",
    "  # ----------- Alice state circuit preparation\n",
    "  if alice_bases[i] == 'Z':\n",
    "    ## In the Z basis, bit 0 is |0> and bit 1 is |1>\n",
    "    ## If the bit is 1 flip it\n",
    "    if alice_bits[i] == 1:\n",
    "      qc.x(0)\n",
    "  else:\n",
    "    ## For the X basis, prepare |+> for bit 0 and |-> for bit 1.\n",
    "    if alice_bits[i] == 0:\n",
    "      qc.h(0)\n",
    "    else:\n",
    "      qc.x(0)\n",
    "      qc.h(0)\n",
    "\n",
    "## State Preparation Details:\n",
    "## - When using the Z basis (computational basis), a bit 0 is encoded as |0⟩ and a bit 1 as |1⟩ (by applying an X gate).\n",
    "## - When using the X basis (diagonal basis), a bit 0 is encoded as |+⟩ and a bit 1 as |−⟩.\n",
    "##\n",
    "## The Hadamard gate (H) is used to transform computational basis states into diagonal basis states:\n",
    "##   H|0⟩ = |+⟩  and  H|1⟩ = |−⟩.\n",
    "##\n",
    "## This transformation is crucial in quantum key distribution protocols (e.g., BB84). If a qubit prepared in one basis\n",
    "## is measured in a different basis, the measurement outcome becomes random (with a 50-50 probability), which is a key\n",
    "## property that ensures the security of the protocol.\n",
    "\n",
    "  ## Bob's measurements\n",
    "\n",
    "  # if Bob's base is X apply Hadamard to prepare for measurements\n",
    "  # Notice that there is a 50 - 50 chance of the qbit collapsing as 0 or 1\n",
    "  if bob_bases[i] == 'X':\n",
    "    qc.h(0)\n",
    "\n",
    "  qc.measure(0,0)\n",
    "\n",
    "  new_cirq = transpile(qc, backend)\n",
    "  job = backend.run(new_cirq)\n",
    "\n",
    "  counts = job.result().get_counts()\n",
    "\n",
    "  measured_bit = int(list(counts.keys())[0])\n",
    "  bob_results.append(measured_bit)"
   ]
  },
  {
   "cell_type": "markdown",
   "id": "634c461b",
   "metadata": {},
   "source": [
    "# Sifting step — Keeping only matching bases"
   ]
  },
  {
   "cell_type": "code",
   "execution_count": 69,
   "id": "b8783318",
   "metadata": {},
   "outputs": [
    {
     "name": "stdout",
     "output_type": "stream",
     "text": [
      "Qubit 0: Basis mismatch (Z). Alice's bit: 1, Bob's measurement: 0\n",
      "Qubit 1: Basis mismatch (Z). Alice's bit: 0, Bob's measurement: 0\n",
      "Qubit 2: Basis match (Z). Alice's bit: 0, Bob's measurement: 0\n",
      "Qubit 3: Basis mismatch (X). Alice's bit: 0, Bob's measurement: 0\n",
      "Qubit 4: Basis match (Z). Alice's bit: 1, Bob's measurement: 1\n",
      "Qubit 5: Basis match (Z). Alice's bit: 0, Bob's measurement: 0\n",
      "Qubit 6: Basis match (X). Alice's bit: 1, Bob's measurement: 1\n",
      "Qubit 7: Basis mismatch (X). Alice's bit: 1, Bob's measurement: 0\n",
      "Qubit 8: Basis mismatch (Z). Alice's bit: 1, Bob's measurement: 0\n",
      "Qubit 9: Basis mismatch (Z). Alice's bit: 1, Bob's measurement: 1\n",
      "Qubit 10: Basis mismatch (Z). Alice's bit: 0, Bob's measurement: 1\n",
      "Qubit 11: Basis match (X). Alice's bit: 1, Bob's measurement: 1\n",
      "Qubit 12: Basis match (Z). Alice's bit: 1, Bob's measurement: 1\n",
      "Qubit 13: Basis mismatch (Z). Alice's bit: 1, Bob's measurement: 1\n",
      "Qubit 14: Basis mismatch (X). Alice's bit: 1, Bob's measurement: 0\n",
      "Qubit 15: Basis match (Z). Alice's bit: 0, Bob's measurement: 0\n",
      "Qubit 16: Basis match (Z). Alice's bit: 1, Bob's measurement: 1\n",
      "Qubit 17: Basis mismatch (X). Alice's bit: 0, Bob's measurement: 1\n",
      "Qubit 18: Basis match (Z). Alice's bit: 1, Bob's measurement: 1\n",
      "Qubit 19: Basis match (Z). Alice's bit: 0, Bob's measurement: 0\n",
      "\n",
      "Final sifted key: [0, 1, 0, 1, 1, 1, 0, 1, 1, 0]\n"
     ]
    }
   ],
   "source": [
    "# Alice and Bob reveal their bases over a public channel and only keep the bits where their bases match\n",
    "sifted_key = []\n",
    "for i in range(n_qubits):\n",
    "  if alice_bases[i] == bob_bases[i]:\n",
    "    sifted_key.append(alice_bits[i])\n",
    "    print(f\"Qubit {i}: Basis match ({alice_bases[i]}). Alice's bit: {alice_bits[i]}, Bob's measurement: {bob_results[i]}\")\n",
    "  else:\n",
    "    print(f\"Qubit {i}: Basis mismatch ({alice_bases[i]}). Alice's bit: {alice_bits[i]}, Bob's measurement: {bob_results[i]}\")\n",
    "  \n",
    "print(\"\\nFinal sifted key:\", sifted_key)"
   ]
  },
  {
   "cell_type": "code",
   "execution_count": null,
   "id": "92252dad",
   "metadata": {},
   "outputs": [],
   "source": []
  }
 ],
 "metadata": {
  "kernelspec": {
   "display_name": "Python 3",
   "language": "python",
   "name": "python3"
  },
  "language_info": {
   "codemirror_mode": {
    "name": "ipython",
    "version": 3
   },
   "file_extension": ".py",
   "mimetype": "text/x-python",
   "name": "python",
   "nbconvert_exporter": "python",
   "pygments_lexer": "ipython3",
   "version": "3.12.1"
  }
 },
 "nbformat": 4,
 "nbformat_minor": 5
}
