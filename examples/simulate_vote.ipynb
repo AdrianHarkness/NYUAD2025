{
 "cells": [
  {
   "metadata": {
    "jupyter": {
     "is_executing": true
    }
   },
   "cell_type": "code",
   "source": [
    "import sawty\n",
    "import time\n",
    "\n",
    "CHOICES = [\"YES\", \"NO\", \"ABSTAIN\"]\n",
    "\n",
    "VOTER_CHOICES = {\n",
    "    \"Aya\": \"YES\",\n",
    "    \"Bassem\": \"NO\",\n",
    "    \"Charlie\": \"ABSTAIN\",\n",
    "    \"Dana\": \"NO\",\n",
    "    \"Ella\": \"NO\",\n",
    "}\n",
    "\n",
    "QKD_KEY_LENGTH = 32"
   ],
   "id": "b14127213e4444a7",
   "outputs": [],
   "execution_count": null
  },
  {
   "metadata": {},
   "cell_type": "code",
   "source": [
    "voters = [Voter(name, qkd_key_length=QKD_KEY_LENGTH) for name in VOTER_CHOICES.keys()]\n",
    "voter_dict = {voter.id: voter.public_key for voter in voters}\n",
    "\n",
    "auth = Authenticator(\"AuthNode\", voter_dict, qkd_key_length=QKD_KEY_LENGTH)\n",
    "\n",
    "tally1 = Tallier(\"TallyNode1\", qkd_key_length=QKD_KEY_LENGTH)\n",
    "tally2 = Tallier(\"TallyNode2\", qkd_key_length=QKD_KEY_LENGTH)\n",
    "tally3 = Tallier(\"TallyNode3\", qkd_key_length=QKD_KEY_LENGTH)\n",
    "talliers = [tally1, tally2, tally3]\n",
    "\n",
    "blockchain = Blockchain(talliers)"
   ],
   "id": "a0ae59e1221f8778",
   "outputs": [],
   "execution_count": null
  },
  {
   "metadata": {},
   "cell_type": "code",
   "source": [
    "for voter in voters:\n",
    "    voter.establish_qkd_channel(auth)\n",
    "    for tally in talliers:\n",
    "        voter.establish_qkd_channel(tally)\n",
    "\n",
    "for tally in talliers:\n",
    "    auth.establish_qkd_channel(tally)"
   ],
   "id": "9f2c326cb9a8e92a",
   "outputs": [],
   "execution_count": null
  },
  {
   "metadata": {},
   "cell_type": "code",
   "source": [
    "for voter in voters:\n",
    "    voter.sign_identity()\n",
    "    voter_choice = VOTER_CHOICES[voter.name]\n",
    "    vote_index = CHOICES.index(voter_choice)\n",
    "\n",
    "    vote_payload = voter.send_vote(vote_index, auth, talliers[0])\n",
    "\n",
    "    signature_hex, forwarded_vote = auth.forward_vote(vote_payload, talliers[0], voter)\n",
    "\n",
    "    for tally in talliers:\n",
    "        tally_vote = tally.receive_vote(forwarded_vote, auth)\n",
    "        tally.add_vote(signature_hex, tally_vote)"
   ],
   "id": "eea19c1901415854",
   "outputs": [],
   "execution_count": null
  },
  {
   "metadata": {},
   "cell_type": "code",
   "source": [
    "first_tallier = talliers[0]\n",
    "votes_snapshot = first_tallier.received_votes.copy()\n",
    "standard_timestamp = time.time()\n",
    "\n",
    "proposed_blocks = []\n",
    "for tally in talliers:\n",
    "    block = blockchain.propose_block(\n",
    "        votes_snapshot,\n",
    "        tally,\n",
    "        fixed_creator=\"TallyConsensus\",\n",
    "        fixed_timestamp=standard_timestamp\n",
    "    )\n",
    "    proposed_blocks.append(block)\n",
    "\n",
    "if blockchain.byzantine_agreement(proposed_blocks):\n",
    "    blockchain.display_chain()\n",
    "    blockchain.save_json(\"blockchain.json\")\n",
    "    blockchain.simple_majority()"
   ],
   "id": "7d856bc21e6edcbc",
   "outputs": [],
   "execution_count": null
  }
 ],
 "metadata": {
  "kernelspec": {
   "name": "python3",
   "language": "python",
   "display_name": "Python 3 (ipykernel)"
  }
 },
 "nbformat": 5,
 "nbformat_minor": 9
}
